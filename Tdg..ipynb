{
 "cells": [
  {
   "cell_type": "markdown",
   "id": "f1ab8425",
   "metadata": {},
   "source": [
    "# GitHub Pages — Guía paso a paso\n",
    "Bienvenida: en este cuaderno aprenderás desde cero a publicar un sitio web con GitHub Pages usando PowerShell en Windows.\n",
    "Vamos a cubrir: requisitos, crear archivos locales, inicializar el repositorio, subirlo a GitHub y activar Pages."
   ]
  },
  {
   "cell_type": "markdown",
   "id": "479a5aa8",
   "metadata": {},
   "source": [
    "## 1) Requisitos\n",
    "Antes de empezar asegúrate de tener:\n",
    "- Una cuenta en GitHub (https://github.com).\n",
    "- Git instalado en tu máquina (https://git-scm.com).\n",
    "- (Opcional) GitHub CLI (`gh`) para operaciones desde la terminal.\n",
    "- Un repositorio en tu máquina con los archivos del sitio (o crear uno nuevo)."
   ]
  },
  {
   "cell_type": "markdown",
   "id": "9151f18e",
   "metadata": {},
   "source": [
    "## 2) Crear un sitio mínimo (archivo `index.html`)\n",
    "Puedes crear manualmente `index.html` o usar PowerShell. A continuación hay un ejemplo del contenido mínimo y un comando para crear el archivo con codificación UTF-8.\n",
    "\n",
    "Contenido sugerido para `index.html`:\n",
    "```html\n",
    "<!doctype html>\n",
    "<html lang=\"es\">\n",
    "<head>\n",
    "  <meta charset=\"utf-8\">\n",
    "  <meta name=\"viewport\" content=\"width=device-width, initial-scale=1\">\n",
    "  <title>Mi sitio con GitHub Pages</title>\n",
    "</head>\n",
    "<body>\n",
    "  <h1>¡Hola desde GitHub Pages!</h1>\n",
    "  <p>Este es un sitio mínimo desplegado con GitHub Pages.</p>\n",
    "</body>\n",
    "</html>\n",
    "```\n",
    "Para crear `index.html` desde PowerShell (en la carpeta del proyecto):\n",
    "```powershell\n",
    "@\"\n",
    "<!doctype html>\n",
    "<html lang=\"es\">\n",
    "<head>\n",
    "  <meta charset=\"utf-8\">\n",
    "  <meta name=\"viewport\" content=\"width=device-width, initial-scale=1\">\n",
    "  <title>Mi sitio con GitHub Pages</title>\n",
    "</head>\n",
    "<body>\n",
    "  <h1>¡Hola desde GitHub Pages!</h1>\n",
    "  <p>Este es un sitio mínimo desplegado con GitHub Pages.</p>\n",
    "</body>\n",
    "</html>\n",
    "\"@ | Out-File -FilePath index.html -Encoding utf8\n",
    "```"
   ]
  },
  {
   "cell_type": "markdown",
   "id": "f68b0064",
   "metadata": {},
   "source": [
    "## 3) Inicializar Git, commit y push (PowerShell)\n",
    "A continuación los comandos habituales desde la carpeta del proyecto local:\n",
    "```powershell\n",
    "git init\n",
    "git add .\n",
    "git commit -m \"Primer commit: sitio para GitHub Pages\"\n",
    "# Si no tienes remoto aún: crea el repo en GitHub (por UI o con gh) y luego: \n",
    "git remote add origin https://github.com/TU_USUARIO/TU_REPOSITORIO.git\n",
    "git branch -M main\n",
    "git push -u origin main\n",
    "```\n",
    "Notas:\n",
    "- Reemplaza `TU_USUARIO` y `TU_REPOSITORIO` por tus datos.\n",
    "- Si usas autenticación con token, Git te pedirá credenciales; en Windows puede ser conveniente usar el helper de credenciales."
   ]
  },
  {
   "cell_type": "markdown",
   "id": "5e13a754",
   "metadata": {},
   "source": [
    "## 4) Activar GitHub Pages\n",
    "Tienes dos opciones comunes para publicar:\n",
    "\n",
    "**A) Usar la interfaz web de GitHub (recomendado para empezar):**\n",
    "1. Ve al repositorio en https://github.com/TU_USUARIO/TU_REPOSITORIO\n",
    "2. Haz clic en \n",
    "Settings\n",
    " → \n",
    "Pages\n",
    "Pages\n",
    ",\n",
    "3\n",
    "Source\n",
    ",\n",
    "4"
   ]
  }
 ],
 "metadata": {
  "language_info": {
   "name": "python"
  }
 },
 "nbformat": 4,
 "nbformat_minor": 5
}
